{
  "cells": [
    {
      "cell_type": "markdown",
      "metadata": {
        "id": "Lt-wwAitG_Xg"
      },
      "source": [
        "#Dataset Loading"
      ]
    },
    {
      "cell_type": "code",
      "execution_count": null,
      "metadata": {
        "id": "4mwrz5-3m5CV"
      },
      "outputs": [],
      "source": [
        "import pandas as pd"
      ]
    },
    {
      "cell_type": "code",
      "execution_count": null,
      "metadata": {
        "id": "IVxpphe9l5UA"
      },
      "outputs": [],
      "source": [
        "ds_name = \"shakespeare_back_translated.csv\"\n",
        "path= F\"/content/gdrive/My Drive/Database/{ds_name}\"\n",
        "ds = pd.read_csv(path)"
      ]
    },
    {
      "cell_type": "code",
      "execution_count": null,
      "metadata": {
        "id": "zPTK4_S3nPg2"
      },
      "outputs": [],
      "source": [
        "original = ds['original']\n",
        "\n",
        "back = ds['back_translated']\n"
      ]
    },
    {
      "cell_type": "code",
      "execution_count": null,
      "metadata": {
        "id": "wdGvj081Fpg2",
        "colab": {
          "base_uri": "https://localhost:8080/"
        },
        "outputId": "dd455afd-c7ed-45b1-aa51-dd364424859d"
      },
      "outputs": [
        {
          "output_type": "stream",
          "name": "stdout",
          "text": [
            "22263\n"
          ]
        }
      ],
      "source": [
        "print(len(original))"
      ]
    },
    {
      "cell_type": "code",
      "execution_count": null,
      "metadata": {
        "id": "pDfdZFfsZxHs",
        "colab": {
          "base_uri": "https://localhost:8080/"
        },
        "outputId": "99b4deb7-3420-4922-94ad-34716cc00d98"
      },
      "outputs": [
        {
          "output_type": "stream",
          "name": "stdout",
          "text": [
            "upon the wounds his body bears , which show\n",
            "on the wounds his body bears that you see\n"
          ]
        }
      ],
      "source": [
        "print(original[10])\n",
        "print(back[10])"
      ]
    },
    {
      "cell_type": "code",
      "execution_count": null,
      "metadata": {
        "id": "c5rxaVPIn0tw"
      },
      "outputs": [],
      "source": [
        "import sklearn\n",
        "from sklearn.model_selection import train_test_split\n",
        "import numpy as np\n",
        "import tensorflow as tf"
      ]
    },
    {
      "cell_type": "markdown",
      "metadata": {
        "id": "MG4aukVV_VV8"
      },
      "source": [
        "# Seq2Seq Data_preprocess"
      ]
    },
    {
      "cell_type": "code",
      "execution_count": null,
      "metadata": {
        "id": "a8TXvr_Uq_g-"
      },
      "outputs": [],
      "source": [
        "class Preprocess_seq2seq:\n",
        "  def __init__(self, vocab):\n",
        "    self.vocab = vocab\n",
        "\n",
        "\n",
        "  def preprocess_sentence(self, w):\n",
        "    import re\n",
        "    # Lower\n",
        "    w = w.lower().strip()\n",
        "    w = '<START> ' + w + ' <END>'\n",
        "\n",
        "    # creating a space between a word and the punctuation following it\n",
        "    w = re.sub(r\"([?.,!¿])\", r\" \\1 \", w)\n",
        "    w = re.sub(r'[\" \"]+', \" \", w)\n",
        "\n",
        "    # outputting the (Glove)voca b values\n",
        "    w = w.split()\n",
        "    w = [word if word in self.vocab else '<UNK>' for word in w]\n",
        "    Out = [self.vocab[word] for word in w]\n",
        "\n",
        "    return Out\n",
        "\n",
        "\n",
        "  def create_dataset(self, input, target, max_len, test_size, buffer_size, batch_size):\n",
        "    Input = np.array([self.preprocess_sentence(w) for w in input])\n",
        "    Target = np.array([self.preprocess_sentence(w) for w in target])\n",
        "\n",
        "    # padding\n",
        "    Input = tf.keras.preprocessing.sequence.pad_sequences(Input, maxlen= max_len, padding='post')\n",
        "    Target = tf.keras.preprocessing.sequence.pad_sequences(Target, maxlen= max_len, padding='post')\n",
        "\n",
        "    input_tensor_train, input_tensor_val, target_tensor_train, target_tensor_val = train_test_split(Input, Target, test_size= test_size)\n",
        "    train_dataset = tf.data.Dataset.from_tensor_slices((input_tensor_train, target_tensor_train))\n",
        "    train_dataset = train_dataset.shuffle(buffer_size).batch(batch_size, drop_remainder=True)\n",
        "\n",
        "    val_dataset = tf.data.Dataset.from_tensor_slices((input_tensor_val, target_tensor_val))\n",
        "    val_dataset = val_dataset.batch(batch_size, drop_remainder=True)\n",
        "\n",
        "    return train_dataset, val_dataset\n",
        "\n"
      ]
    },
    {
      "cell_type": "code",
      "execution_count": null,
      "metadata": {
        "colab": {
          "base_uri": "https://localhost:8080/"
        },
        "id": "rNNd4oyv4m4h",
        "outputId": "4a4ca82a-9aa7-41f5-edf0-a0b42d459252"
      },
      "outputs": [
        {
          "output_type": "stream",
          "name": "stderr",
          "text": [
            "<ipython-input-54-8288e5693e1a>:25: VisibleDeprecationWarning: Creating an ndarray from ragged nested sequences (which is a list-or-tuple of lists-or-tuples-or ndarrays with different lengths or shapes) is deprecated. If you meant to do this, you must specify 'dtype=object' when creating the ndarray.\n",
            "  Input = np.array([self.preprocess_sentence(w) for w in input])\n",
            "<ipython-input-54-8288e5693e1a>:26: VisibleDeprecationWarning: Creating an ndarray from ragged nested sequences (which is a list-or-tuple of lists-or-tuples-or ndarrays with different lengths or shapes) is deprecated. If you meant to do this, you must specify 'dtype=object' when creating the ndarray.\n",
            "  Target = np.array([self.preprocess_sentence(w) for w in target])\n"
          ]
        }
      ],
      "source": [
        "buffer_size = 22000\n",
        "batch_size = 64\n",
        "max_len = 17\n",
        "test_size = 0.04\n",
        "\n",
        "preprocess = Preprocess_seq2seq(vocab)\n",
        "train_dataset, val_dataset = preprocess.create_dataset(original, back, max_len, test_size, buffer_size, batch_size)"
      ]
    },
    {
      "cell_type": "code",
      "execution_count": null,
      "metadata": {
        "colab": {
          "base_uri": "https://localhost:8080/"
        },
        "id": "AObY1--y-yJ_",
        "outputId": "7262199a-f911-40f5-bc86-5d6d6b13bbcc"
      },
      "outputs": [
        {
          "output_type": "execute_result",
          "data": {
            "text/plain": [
              "(TensorShape([64, 17]), TensorShape([64, 17]))"
            ]
          },
          "metadata": {},
          "execution_count": 56
        }
      ],
      "source": [
        "# Testing the Example Batches\n",
        "example_input_batch, example_target_batch = next(iter(train_dataset))\n",
        "example_input_batch.shape, example_target_batch.shape"
      ]
    },
    {
      "cell_type": "code",
      "execution_count": null,
      "metadata": {
        "colab": {
          "base_uri": "https://localhost:8080/"
        },
        "id": "mJI-U2zEp92J",
        "outputId": "931ccd21-910e-4c33-c356-39c3abdee10c"
      },
      "outputs": [
        {
          "output_type": "stream",
          "name": "stdout",
          "text": [
            "<class 'tensorflow.python.framework.ops.EagerTensor'>\n"
          ]
        }
      ],
      "source": [
        "print(type(example_input_batch[: , 3]))"
      ]
    },
    {
      "cell_type": "markdown",
      "metadata": {
        "id": "hISsz668m-qS"
      },
      "source": [
        "# google drive"
      ]
    },
    {
      "cell_type": "code",
      "execution_count": null,
      "metadata": {
        "id": "5VioCNZASbRO",
        "colab": {
          "base_uri": "https://localhost:8080/"
        },
        "outputId": "d3dd36af-de52-4217-b39c-e2f821f444be"
      },
      "outputs": [
        {
          "output_type": "stream",
          "name": "stdout",
          "text": [
            "Mounted at /content/gdrive\n"
          ]
        }
      ],
      "source": [
        "from google.colab import drive\n",
        "drive.mount('/content/gdrive')"
      ]
    },
    {
      "cell_type": "markdown",
      "metadata": {
        "id": "SzT82KlHmxZv"
      },
      "source": [
        "# downloading Glove"
      ]
    },
    {
      "cell_type": "code",
      "execution_count": null,
      "metadata": {
        "colab": {
          "base_uri": "https://localhost:8080/"
        },
        "id": "zyow0xEoJj8l",
        "outputId": "72378f65-3afb-47fb-84c5-bbf8ecf648d7"
      },
      "outputs": [
        {
          "output_type": "stream",
          "name": "stdout",
          "text": [
            "--2023-10-01 22:32:08--  http://nlp.stanford.edu/data/glove.6B.zip\n",
            "Resolving nlp.stanford.edu (nlp.stanford.edu)... 171.64.67.140\n",
            "Connecting to nlp.stanford.edu (nlp.stanford.edu)|171.64.67.140|:80... connected.\n",
            "HTTP request sent, awaiting response... 302 Found\n",
            "Location: https://nlp.stanford.edu/data/glove.6B.zip [following]\n",
            "--2023-10-01 22:32:08--  https://nlp.stanford.edu/data/glove.6B.zip\n",
            "Connecting to nlp.stanford.edu (nlp.stanford.edu)|171.64.67.140|:443... connected.\n",
            "HTTP request sent, awaiting response... 301 Moved Permanently\n",
            "Location: https://downloads.cs.stanford.edu/nlp/data/glove.6B.zip [following]\n",
            "--2023-10-01 22:32:08--  https://downloads.cs.stanford.edu/nlp/data/glove.6B.zip\n",
            "Resolving downloads.cs.stanford.edu (downloads.cs.stanford.edu)... 171.64.64.22\n",
            "Connecting to downloads.cs.stanford.edu (downloads.cs.stanford.edu)|171.64.64.22|:443... connected.\n",
            "HTTP request sent, awaiting response... 200 OK\n",
            "Length: 862182613 (822M) [application/zip]\n",
            "Saving to: ‘glove.6B.zip’\n",
            "\n",
            "glove.6B.zip          5%[>                   ]  45.21M  5.00MB/s    eta 74s    ^C\n",
            "[glove.6B.zip]\n",
            "  End-of-central-directory signature not found.  Either this file is not\n",
            "  a zipfile, or it constitutes one disk of a multi-part archive.  In the\n",
            "  latter case the central directory and zipfile comment will be found on\n",
            "  the last disk(s) of this archive.\n",
            "unzip:  cannot find zipfile directory in one of glove.6B.zip or\n",
            "        glove.6B.zip.zip, and cannot find glove.6B.zip.ZIP, period.\n"
          ]
        }
      ],
      "source": [
        "# Loading Glove\n",
        "!wget http://nlp.stanford.edu/data/glove.6B.zip\n",
        "!unzip -q glove.6B.zip\n",
        "\n",
        "glove_path = 'glove.6B.100d.txt'\n"
      ]
    },
    {
      "cell_type": "code",
      "execution_count": null,
      "metadata": {
        "colab": {
          "base_uri": "https://localhost:8080/",
          "height": 251
        },
        "id": "Vm4tMxyjlplo",
        "outputId": "3e053dac-0356-4045-9e7d-62a3e917aa75"
      },
      "outputs": [
        {
          "output_type": "error",
          "ename": "FileNotFoundError",
          "evalue": "ignored",
          "traceback": [
            "\u001b[0;31m---------------------------------------------------------------------------\u001b[0m",
            "\u001b[0;31mFileNotFoundError\u001b[0m                         Traceback (most recent call last)",
            "\u001b[0;32m<ipython-input-6-da8ae10b09ac>\u001b[0m in \u001b[0;36m<cell line: 5>\u001b[0;34m()\u001b[0m\n\u001b[1;32m      3\u001b[0m \u001b[0membedding_matrix\u001b[0m \u001b[0;34m=\u001b[0m \u001b[0;34m{\u001b[0m\u001b[0;34m}\u001b[0m\u001b[0;34m\u001b[0m\u001b[0;34m\u001b[0m\u001b[0m\n\u001b[1;32m      4\u001b[0m \u001b[0;34m\u001b[0m\u001b[0m\n\u001b[0;32m----> 5\u001b[0;31m \u001b[0;32mwith\u001b[0m \u001b[0mopen\u001b[0m\u001b[0;34m(\u001b[0m\u001b[0mglove_path\u001b[0m\u001b[0;34m,\u001b[0m \u001b[0;34m'r'\u001b[0m\u001b[0;34m,\u001b[0m \u001b[0mencoding\u001b[0m\u001b[0;34m=\u001b[0m\u001b[0;34m'utf-8'\u001b[0m\u001b[0;34m)\u001b[0m \u001b[0;32mas\u001b[0m \u001b[0mf\u001b[0m\u001b[0;34m:\u001b[0m\u001b[0;34m\u001b[0m\u001b[0;34m\u001b[0m\u001b[0m\n\u001b[0m\u001b[1;32m      6\u001b[0m     \u001b[0;32mfor\u001b[0m \u001b[0mline\u001b[0m \u001b[0;32min\u001b[0m \u001b[0mf\u001b[0m\u001b[0;34m:\u001b[0m\u001b[0;34m\u001b[0m\u001b[0;34m\u001b[0m\u001b[0m\n\u001b[1;32m      7\u001b[0m         \u001b[0mvalues\u001b[0m \u001b[0;34m=\u001b[0m \u001b[0mline\u001b[0m\u001b[0;34m.\u001b[0m\u001b[0msplit\u001b[0m\u001b[0;34m(\u001b[0m\u001b[0;34m)\u001b[0m\u001b[0;34m\u001b[0m\u001b[0;34m\u001b[0m\u001b[0m\n",
            "\u001b[0;31mFileNotFoundError\u001b[0m: [Errno 2] No such file or directory: 'glove.6B.100d.txt'"
          ]
        }
      ],
      "source": [
        "import numpy as np\n",
        "embedding_dim = 100\n",
        "embedding_matrix = {}\n",
        "\n",
        "with open(glove_path, 'r', encoding='utf-8') as f:\n",
        "    for line in f:\n",
        "        values = line.split()\n",
        "        word = values[0]\n",
        "        coefs = np.asarray(values[1:], dtype='float32')\n",
        "        embedding_matrix[word] = coefs\n",
        "\n",
        "# Embedding matrix\n",
        "\n",
        "vocab = {'<PAD>': 0, '<UNK>': 1, '<START>': 2, '<END>': 3}\n",
        "for word in embedding_matrix.keys():\n",
        "    vocab[word] = len(vocab)\n",
        "\n",
        "vocab_size = len(vocab)\n",
        "embedding_matrix['<PAD>'] = np.zeros(embedding_dim)  # Padding token\n",
        "embedding_matrix['<UNK>'] = np.random.randn(embedding_dim)  # Unknown token\n",
        "embedding_matrix['<START>'] = np.random.randn(embedding_dim)  # START token\n",
        "embedding_matrix['<END>'] = np.random.randn(embedding_dim)  # END token\n",
        "\n",
        "embedding_matrix = np.array([embedding_matrix[word] for word in vocab])\n",
        "\n",
        "# Saving the embeddding matrix\n",
        "matrix_name = \"Glove_embedding_matrix.npy\"\n",
        "path= F\"/content/gdrive/My Drive/matrices/{matrix_name}\"\n",
        "\n",
        "np.save(path, embedding_matrix)"
      ]
    },
    {
      "cell_type": "code",
      "execution_count": null,
      "metadata": {
        "id": "qzzxgxpzLhwF"
      },
      "outputs": [],
      "source": [
        "import pickle\n",
        "vpath = \"/content/gdrive/My Drive/matrices/vocab.pkl\"\n",
        "with open(vpath, 'wb') as file:\n",
        "    pickle.dump(vocab, file)"
      ]
    },
    {
      "cell_type": "code",
      "execution_count": null,
      "metadata": {
        "id": "Mshrq2SaMHcJ"
      },
      "outputs": [],
      "source": [
        "print(np.shape(embedding_matrix))"
      ]
    },
    {
      "cell_type": "markdown",
      "metadata": {
        "id": "y2wkz1H4nlvd"
      },
      "source": [
        "# Loading Embedding_matrix & Vocab"
      ]
    },
    {
      "cell_type": "code",
      "execution_count": null,
      "metadata": {
        "id": "6O3Y09BQl7l2"
      },
      "outputs": [],
      "source": [
        "import numpy as np\n",
        "import pickle\n",
        "\n",
        "# Read dictionary pkl file\n",
        "with open(\"/content/gdrive/My Drive/matrices/vocab.pkl\", 'rb') as fp:\n",
        "    vocab= pickle.load(fp)\n",
        "\n",
        "matrix_name = \"Glove_embedding_matrix.npy\"\n",
        "path= F\"/content/gdrive/My Drive/matrices/{matrix_name}\"\n",
        "\n",
        "embedding_matrix = np.load(path)"
      ]
    },
    {
      "cell_type": "code",
      "execution_count": null,
      "metadata": {
        "colab": {
          "base_uri": "https://localhost:8080/"
        },
        "id": "M0royEC7UG5d",
        "outputId": "c045194c-cd6e-4199-afe0-fb43374726c7"
      },
      "outputs": [
        {
          "output_type": "stream",
          "name": "stdout",
          "text": [
            "(100,)\n"
          ]
        }
      ],
      "source": [
        "emb_empathy = embedding_matrix[vocab['empathy']]\n",
        "print(np.shape(emb_empathy))"
      ]
    },
    {
      "cell_type": "code",
      "execution_count": null,
      "metadata": {
        "id": "hKL-HtK_oUiM"
      },
      "outputs": [],
      "source": [
        "vocab_size = len(vocab)\n",
        "embedding_dim = 100"
      ]
    },
    {
      "cell_type": "code",
      "execution_count": null,
      "metadata": {
        "id": "dv87HjLUS0r9"
      },
      "outputs": [],
      "source": [
        "import tensorflow as tf\n",
        "\n",
        "embedding_layer = tf.keras.layers.Embedding(\n",
        "    input_dim=vocab_size,\n",
        "    output_dim=embedding_dim,\n",
        "    weights=[embedding_matrix],\n",
        "    trainable=False\n",
        ")\n",
        "\n",
        "sequence_input = tf.keras.layers.Input(shape=(10,))\n",
        "embedded_sequences = embedding_layer(sequence_input)\n",
        "emb_model = tf.keras.models.Model(inputs=sequence_input, outputs= embedded_sequences)"
      ]
    },
    {
      "cell_type": "code",
      "execution_count": null,
      "metadata": {
        "id": "W-o8SvI0wg3Z"
      },
      "outputs": [],
      "source": [
        "s = 'i come home'\n",
        "s = str.split(s)\n",
        "s = np.array([vocab[i] for i in s])\n",
        "emb_pred = emb_model(s)"
      ]
    },
    {
      "cell_type": "code",
      "execution_count": null,
      "metadata": {
        "colab": {
          "base_uri": "https://localhost:8080/"
        },
        "id": "5jIl2OzLwv6J",
        "outputId": "5e271a38-b009-4a6f-d239-c926d8510a13"
      },
      "outputs": [
        {
          "output_type": "stream",
          "name": "stdout",
          "text": [
            "(3, 100)\n",
            "same\n"
          ]
        }
      ],
      "source": [
        "print(np.shape(emb_pred))\n",
        "if np.all(emb_pred[0] - embedding_matrix[vocab['i']]) == 0:\n",
        "  print('same')"
      ]
    },
    {
      "cell_type": "code",
      "execution_count": null,
      "metadata": {
        "colab": {
          "base_uri": "https://localhost:8080/"
        },
        "id": "wsOVXnHLqfiy",
        "outputId": "341a478d-08ee-437a-bd51-3e0a23d57e75"
      },
      "outputs": [
        {
          "output_type": "stream",
          "name": "stdout",
          "text": [
            "(400004, 100)\n"
          ]
        }
      ],
      "source": [
        "print(np.shape(embedding_matrix))"
      ]
    },
    {
      "cell_type": "markdown",
      "metadata": {
        "id": "hZDHVV9fxIT7"
      },
      "source": [
        "# Encoder"
      ]
    },
    {
      "cell_type": "code",
      "execution_count": null,
      "metadata": {
        "id": "WDszZg_uYYvM"
      },
      "outputs": [],
      "source": [
        "# Encoder class\n",
        "\n",
        "class Encoder(tf.keras.Model):\n",
        "  def __init__(self, units, batch_size, trainable=False, mask_zero=True, dropout=0.2, recurrent_dropout=0.1):\n",
        "    super(Encoder, self).__init__()\n",
        "    self.batch_size = batch_size\n",
        "    self.units = units\n",
        "\n",
        "    self.embedding_layer = tf.keras.layers.Embedding(\n",
        "    input_dim=vocab_size,\n",
        "    output_dim=embedding_dim,\n",
        "    weights=[embedding_matrix],\n",
        "    mask_zero=mask_zero,\n",
        "    trainable=trainable)\n",
        "\n",
        "    self.lstm_layer = tf.keras.layers.Bidirectional(\n",
        "    tf.keras.layers.LSTM(self.units, return_sequences=True, return_state=True,\n",
        "                         dropout=dropout, recurrent_dropout=recurrent_dropout))\n",
        "\n",
        "  def call(self, x, hidden):\n",
        "    x = self.embedding_layer(x)\n",
        "\n",
        "    output, forward_h, forward_c, backward_h, backward_c = self.lstm_layer(x, initial_state = hidden)\n",
        "    # concatenate the forward and backward hidden states\n",
        "    state_h = tf.concat([forward_h, backward_h], axis=-1)\n",
        "    # concatenate the forward and backward cell states\n",
        "    state_c = tf.concat([forward_c, backward_c], axis=-1)\n",
        "    return output, state_h, state_c\n",
        "\n",
        "  def initialize_hidden_state(self):\n",
        "      return [tf.zeros((self.batch_size, self.units)), tf.zeros((self.batch_size, self.units)),tf.zeros((self.batch_size, self.units)),tf.zeros((self.batch_size, self.units))]"
      ]
    },
    {
      "cell_type": "code",
      "execution_count": null,
      "metadata": {
        "colab": {
          "base_uri": "https://localhost:8080/"
        },
        "id": "4wdp5hRdLv4u",
        "outputId": "16b5c195-ea2c-44a3-8746-fcbde3d2847d"
      },
      "outputs": [
        {
          "output_type": "stream",
          "name": "stdout",
          "text": [
            "out, h, c:  (64, 17, 200)   (64, 200)   (64, 200)\n"
          ]
        }
      ],
      "source": [
        "# Testing Encoder\n",
        "\n",
        "enc = Encoder(100, 64)\n",
        "x = example_target_batch\n",
        "initial = enc.initialize_hidden_state()\n",
        "\n",
        "output, enc_h, enc_c = enc.call(x, initial)\n",
        "print('out, h, c: ', np.shape(output),' ',np.shape(enc_h),' ',np.shape(enc_c))"
      ]
    },
    {
      "cell_type": "markdown",
      "metadata": {
        "id": "QqfSVMSoBATj"
      },
      "source": [
        "## Encoder_with_model"
      ]
    },
    {
      "cell_type": "code",
      "execution_count": null,
      "metadata": {
        "id": "m4RmL2EJ7yyG"
      },
      "outputs": [],
      "source": [
        "import tensorflow as tf\n",
        "\n",
        "class Encoder_with_model(tf.keras.Model):\n",
        "    def __init__(self, units, batch_size, trainable=True, mask_zero=True):\n",
        "        super(Encoder_with_model, self).__init__()\n",
        "        self.batch_size = batch_size\n",
        "        self.units = units\n",
        "\n",
        "        self.embedding_layer = tf.keras.layers.Embedding(\n",
        "            input_dim=vocab_size,\n",
        "            output_dim=embedding_dim,\n",
        "            weights=[embedding_matrix],\n",
        "            mask_zero=mask_zero,\n",
        "            trainable=trainable)\n",
        "\n",
        "        self.lstm_layer = tf.keras.layers.Bidirectional(\n",
        "            tf.keras.layers.LSTM(self.units, return_sequences=True, return_state=True))\n",
        "\n",
        "    def build_model(self, initial=None):\n",
        "        if initial == None:\n",
        "          initial = self.initialize_hidden_state()\n",
        "        inputs = tf.keras.Input(shape=(None,))\n",
        "        hidden = self.initialize_hidden_state()\n",
        "        x = self.embedding_layer(inputs)\n",
        "        output, forward_h, forward_c, backward_h, backward_c = self.lstm_layer(x, initial_state=initial)\n",
        "        state_h = tf.concat([forward_h, backward_h], axis=-1)\n",
        "        state_c = tf.concat([forward_c, backward_c], axis=-1)\n",
        "        model = tf.keras.Model(inputs, [output, state_h, state_c])\n",
        "        return model\n",
        "\n",
        "    def call(self, input_sequences, initial = None):\n",
        "        if initial == None:\n",
        "          initial = self.initialize_hidden_state()\n",
        "        model = self.build_model(initial)\n",
        "        results = model(input_sequences)\n",
        "        return model, results\n",
        "\n",
        "    def initialize_hidden_state(self):\n",
        "        return [\n",
        "            tf.zeros((self.batch_size, self.units)),\n",
        "            tf.zeros((self.batch_size, self.units)),\n",
        "            tf.zeros((self.batch_size, self.units)),\n",
        "            tf.zeros((self.batch_size, self.units))\n",
        "        ]\n"
      ]
    },
    {
      "cell_type": "markdown",
      "metadata": {
        "id": "pyNdwGRd6thr"
      },
      "source": [
        "# Decoder"
      ]
    },
    {
      "cell_type": "markdown",
      "metadata": {
        "id": "H3ZdgIMdhP8q"
      },
      "source": [
        "## LuongAttention"
      ]
    },
    {
      "cell_type": "code",
      "execution_count": null,
      "metadata": {
        "id": "z4zAM326kZB_"
      },
      "outputs": [],
      "source": [
        "class LuongAttention(tf.keras.layers.Layer):\n",
        "    def __init__(self, units, **kwargs):\n",
        "        super(LuongAttention, self).__init__(**kwargs)\n",
        "        self.units = units\n",
        "\n",
        "        self.attention_weights = self.add_weight(\n",
        "            name='attention_weights',\n",
        "            shape=(self.units, self.units),\n",
        "            initializer='uniform',\n",
        "            trainable=True\n",
        "        )\n",
        "\n",
        "\n",
        "    def call(self, encoder_outputs, decoder_hidden):\n",
        "\n",
        "        # Expand dimensions of decoder hidden state for compatibility\n",
        "        decoder_hidden_with_time_axis = tf.expand_dims(decoder_hidden, axis=1)\n",
        "\n",
        "        # Calculate attention scores\n",
        "        attention_scores = tf.matmul(decoder_hidden_with_time_axis, self.attention_weights)\n",
        "        attention_scores = tf.matmul(attention_scores, encoder_outputs, transpose_b=True)\n",
        "\n",
        "        # Apply softmax to get attention weights\n",
        "        attention_weights = tf.nn.softmax(attention_scores, axis=-1)\n",
        "\n",
        "        # Apply attention weights to encoder outputs\n",
        "        context_vector = tf.matmul(attention_weights, encoder_outputs)\n",
        "\n",
        "        context_vec = tf.reshape(context_vector, (np.shape(context_vector)[0], np.shape(context_vector)[-1]))\n",
        "        attention_weights = tf.reshape(attention_weights, (np.shape(attention_weights)[0], np.shape(attention_weights)[-1]))\n",
        "\n",
        "        return context_vector, attention_weights\n",
        "\n"
      ]
    },
    {
      "cell_type": "code",
      "execution_count": null,
      "metadata": {
        "colab": {
          "base_uri": "https://localhost:8080/"
        },
        "id": "fmghInALezGl",
        "outputId": "e3c6e820-da9a-45fe-e392-5c44f486ca0a"
      },
      "outputs": [
        {
          "output_type": "stream",
          "name": "stdout",
          "text": [
            "<tf.Variable 'attention_weights:0' shape=(2, 2) dtype=float32, numpy=\n",
            "array([[ 0.04806298, -0.02799059],\n",
            "       [-0.0427932 , -0.04735882]], dtype=float32)>\n"
          ]
        }
      ],
      "source": [
        "A = LuongAttention(2)\n",
        "print(A.attention_weights)"
      ]
    },
    {
      "cell_type": "markdown",
      "metadata": {
        "id": "QGfHTqHghhoa"
      },
      "source": [
        "## Decoder(with attention)"
      ]
    },
    {
      "cell_type": "code",
      "execution_count": null,
      "metadata": {
        "id": "ZynSoU87gtf-"
      },
      "outputs": [],
      "source": [
        "import tensorflow as tf\n",
        "import numpy as np\n",
        "\n",
        "class Decoder(tf.keras.Model):\n",
        "    def __init__(self, units, batch_size):\n",
        "        super(Decoder, self).__init__()\n",
        "        self.units = units\n",
        "        self.batch_size = batch_size\n",
        "        self.embedding = tf.keras.layers.Embedding(\n",
        "            vocab_size, embedding_dim, weights=[embedding_matrix], trainable=False\n",
        "        )\n",
        "\n",
        "        self.lstm_cell = tf.keras.layers.LSTMCell(units)\n",
        "\n",
        "        self.Attention =  LuongAttention(units)\n",
        "\n",
        "        self.output_layer = tf.keras.layers.Dense(vocab_size)\n",
        "\n",
        "        self.context_weights = self.add_weight(\n",
        "            name='context_weights',\n",
        "            shape=(self.units*2, self.units*2),\n",
        "            initializer='orthogonal',\n",
        "            trainable=True\n",
        "        )\n",
        "\n",
        "\n",
        "    def call(self, input, prev_hidden, prev_cell, encoder_outputs, training= True):\n",
        "      # Embed previous tokens\n",
        "      embedded_tokens = self.embedding(input)\n",
        "      embedded_tokens = tf.reshape(embedded_tokens, (np.shape(embedded_tokens)[0], np.shape(embedded_tokens)[-1]))\n",
        "      # Compute lstm_cell\n",
        "      lstm_output, new_states = self.lstm_cell(\n",
        "        embedded_tokens, [prev_hidden, prev_cell]\n",
        "      )\n",
        "      hidden, cell = new_states\n",
        "\n",
        "      # Compute Attention_weights and Context_vector\n",
        "      context_vector, attention_weights = self.Attention(encoder_outputs, hidden)\n",
        "      context_vector = tf.reshape(context_vector, (np.shape(context_vector)[0], np.shape(context_vector)[-1]))\n",
        "      # Compute the new hidden\n",
        "\n",
        "      new_hidden = tf.concat([hidden, context_vector], axis=-1)\n",
        "\n",
        "\n",
        "      new_hidden = tf.expand_dims(new_hidden, axis=1)\n",
        "      new_hidden = tf.matmul(new_hidden, self.context_weights)\n",
        "      new_hidden = tf.math.tanh(new_hidden)\n",
        "\n",
        "\n",
        "      # Get the output\n",
        "      logits = self.output_layer(new_hidden)\n",
        "      logits = tf.reshape(logits, (np.shape(logits)[0], np.shape(logits)[-1]))\n",
        "\n",
        "      # Apply softmax activation to obtain the output probabilities\n",
        "      output_probs = tf.nn.softmax(logits, axis=-1)\n",
        "\n",
        "\n",
        "      #outputs = tf.reshape(outputs, (np.shape(outputs)[0], np.shape(outputs)[-1]))\n",
        "      return output_probs, hidden, cell, attention_weights\n",
        "\n",
        "\n",
        "\n",
        "    def initialize_hidden_state(self):\n",
        "      return [tf.zeros((self.batch_size, self.units)), tf.zeros((self.batch_size, self.units))]"
      ]
    },
    {
      "cell_type": "code",
      "execution_count": null,
      "metadata": {
        "id": "q-l71s2bMGv5"
      },
      "outputs": [],
      "source": [
        "# Test decoder stack\n",
        "\n",
        "x = example_target_batch[:, 1]\n",
        "\n",
        "dec = Decoder(units=200, batch_size = 64)\n",
        "\n",
        "encoder_outputs = output\n",
        "\n",
        "prev_hidden, prev_cell = dec.initialize_hidden_state()\n",
        "\n",
        "output_probs, new_hidden, new_cell, attention_weights = dec.call(x, prev_hidden, prev_cell, encoder_outputs, training = False)\n"
      ]
    },
    {
      "cell_type": "code",
      "execution_count": null,
      "metadata": {
        "id": "q5MH1HsBPXzl",
        "colab": {
          "base_uri": "https://localhost:8080/"
        },
        "outputId": "b0be392f-6670-42cc-bb4c-a202f0c621e1"
      },
      "outputs": [
        {
          "output_type": "stream",
          "name": "stdout",
          "text": [
            "(64,)\n",
            "dec_output (64, 400004)\n",
            "new_hidden (64, 200)\n",
            "new_cell (64, 200)\n",
            "attention_weights (64, 17)\n"
          ]
        }
      ],
      "source": [
        "print(np.shape(x))\n",
        "print('dec_output', np.shape(output_probs))\n",
        "print('new_hidden', np.shape(new_hidden))\n",
        "print('new_cell', np.shape(new_cell))\n",
        "print('attention_weights', np.shape(attention_weights))"
      ]
    },
    {
      "cell_type": "markdown",
      "metadata": {
        "id": "vqeghSPChyPQ"
      },
      "source": [
        "# Training loop"
      ]
    },
    {
      "cell_type": "code",
      "execution_count": null,
      "metadata": {
        "id": "5EsIcGXNm3rO"
      },
      "outputs": [],
      "source": [
        "# Optimizer\n",
        "import tensorflow as tf\n",
        "optimizer = tf.keras.optimizers.Adam()\n",
        "\n",
        "#Loss\n",
        "def loss_function(real, pred):\n",
        "  cross_entropy = tf.keras.losses.SparseCategoricalCrossentropy()\n",
        "  loss = cross_entropy(y_true= real, y_pred= pred)\n",
        "  loss = tf.reduce_mean(loss)\n",
        "  return loss"
      ]
    },
    {
      "cell_type": "code",
      "execution_count": null,
      "metadata": {
        "id": "i5PlemrJo7AI"
      },
      "outputs": [],
      "source": [
        "# Path to save models\n",
        "model_save_name= \"shakespeare_back/cp-{epoch:04d}.ckpt\"\n",
        "path= F\"/content/gdrive/My Drive/Model_checkpoints/{model_save_name}\""
      ]
    },
    {
      "cell_type": "code",
      "execution_count": null,
      "metadata": {
        "id": "fV18tuEdpplQ"
      },
      "outputs": [],
      "source": [
        "# Define Encoder & Decoder\n",
        "\n",
        "units = 256\n",
        "encoder = Encoder(units=units, batch_size=batch_size)\n",
        "decoder = Decoder(units = units*2, batch_size=batch_size)"
      ]
    },
    {
      "cell_type": "code",
      "execution_count": null,
      "metadata": {
        "id": "KQNcIawqo96v"
      },
      "outputs": [],
      "source": [
        "# Checkpoint_save\n",
        "\n",
        "checkpoint = tf.train.Checkpoint(optimizer=optimizer,\n",
        "                                 encoder=encoder,\n",
        "                                 decoder=decoder)\n",
        "# Checkpoint_lr"
      ]
    },
    {
      "cell_type": "code",
      "execution_count": null,
      "metadata": {
        "id": "A28XULiNUqoU"
      },
      "outputs": [],
      "source": [
        "import numpy as np\n",
        "mu = 0  # Mean\n",
        "sigma = 1  # Standard deviation"
      ]
    },
    {
      "cell_type": "code",
      "execution_count": null,
      "metadata": {
        "colab": {
          "base_uri": "https://localhost:8080/"
        },
        "id": "jsL6lqpDEDuS",
        "outputId": "29d80126-bf64-4fef-a374-ae373c1b856e"
      },
      "outputs": [
        {
          "name": "stdout",
          "output_type": "stream",
          "text": [
            "(2, 3)\n",
            "<bound method Tensor.ref of <tf.Tensor: shape=(2,), dtype=int64, numpy=array([2, 1])>>\n"
          ]
        }
      ],
      "source": [
        "t = tf.constant([[2, 1, 7], [9, 10, 1]])\n",
        "print(np.shape(t))\n",
        "max_value_index = tf.argmax(t, axis=-1)\n",
        "print(max_value_index.ref)"
      ]
    },
    {
      "cell_type": "code",
      "execution_count": null,
      "metadata": {
        "id": "ANQuQmOONjbx"
      },
      "outputs": [],
      "source": [
        "# Define a schedule for teacher forcing probability\n",
        "initial_teacher_forcing_prob = 1.0  # Start with full teacher forcing\n",
        "final_teacher_forcing_prob = 0.0    # End with no teacher forcing\n",
        "teacher_forcing_prob_decay_steps = 1500  # Adjust as needed\n",
        "\n",
        "def calculate_teacher_forcing_prob(current_step):\n",
        "    # Linear decay schedule\n",
        "    if current_step < teacher_forcing_prob_decay_steps:\n",
        "        decay_factor = current_step / teacher_forcing_prob_decay_steps\n",
        "        return initial_teacher_forcing_prob * (1.0 - decay_factor) + final_teacher_forcing_prob * decay_factor\n",
        "    else:\n",
        "        return final_teacher_forcing_prob\n"
      ]
    },
    {
      "cell_type": "code",
      "execution_count": null,
      "metadata": {
        "id": "8oPZZka1plnm"
      },
      "outputs": [],
      "source": [
        "# Train_step\n",
        "import random\n",
        "\n",
        "\n",
        "def train_step(input, target, enc_initial, teacher_forcing):\n",
        "    loss = 0\n",
        "    a = random.random() < teacher_forcing\n",
        "    with tf.GradientTape() as tape:\n",
        "        enc_outputs, enc_h, enc_c = encoder(input, enc_initial)\n",
        "\n",
        "        prev_hidden, prev_cell = enc_h, enc_c\n",
        "\n",
        "        for t in range(1, target.shape[1]):\n",
        "            if a == False or t == 1:\n",
        "                output_probs, hidden, cell, attention_weights = decoder.call(\n",
        "                    target[:, t - 1], prev_hidden, prev_cell, enc_outputs\n",
        "                )\n",
        "                loss += loss_function(target[:, t], output_probs)\n",
        "                prev_hidden, prev_cell = hidden, cell\n",
        "\n",
        "            else:\n",
        "                  max_value_index = tf.argmax(output_probs, axis=-1)\n",
        "                  output_probs, hidden, cell, attention_weights = decoder.call(\n",
        "                        max_value_index, prev_hidden, prev_cell, enc_outputs\n",
        "                    )\n",
        "                  loss += loss_function(target[:, t], output_probs)\n",
        "                  prev_hidden, prev_cell = hidden, cell\n",
        "\n",
        "    sequence_length = tf.cast(target.shape[1], dtype=tf.float32)\n",
        "    batch_loss = loss / sequence_length\n",
        "    variables = encoder.trainable_variables + decoder.trainable_variables\n",
        "    gradients = tape.gradient(loss, variables)\n",
        "    optimizer.apply_gradients(zip(gradients, variables))\n",
        "\n",
        "    return loss\n"
      ]
    },
    {
      "cell_type": "code",
      "execution_count": null,
      "metadata": {
        "id": "NfLSAOfKyy7B"
      },
      "outputs": [],
      "source": [
        "steps_per_epoch= len(original)//batch_size # How many batches"
      ]
    },
    {
      "cell_type": "code",
      "execution_count": null,
      "metadata": {
        "id": "kF9TuvnYmsdO"
      },
      "outputs": [],
      "source": [
        "import time\n",
        "epochs = 24\n",
        "losses = []\n",
        "current_step = 1500\n",
        "\n",
        "for epoch in range(epochs):\n",
        "  start = time.time()\n",
        "\n",
        "  total_loss = 0\n",
        "  enc_initial = encoder.initialize_hidden_state()\n",
        "\n",
        "  for (batch, (input, target)) in enumerate(train_dataset.take(steps_per_epoch)):\n",
        "    current_step += 1\n",
        "    current_teacher_forcing_prob = calculate_teacher_forcing_prob(current_step)\n",
        "    batch_loss = train_step(input, target, enc_initial, current_teacher_forcing_prob)\n",
        "    total_loss += batch_loss\n",
        "    if batch % 100 == 0:\n",
        "      print('Epoch {} Batch {} Loss {:.4f}'.format(epoch + 1,\n",
        "                                                   batch,\n",
        "                                                   batch_loss.numpy()))\n",
        "\n",
        "  if (epoch+1) % 2 == 0:\n",
        "    checkpoint.save(file_prefix = path)\n",
        "\n",
        "  print('Epoch {} Loss {:.4f}'.format(epoch + 1,\n",
        "                                      total_loss / steps_per_epoch))\n",
        "  losses.append(total_loss / steps_per_epoch)\n",
        "  end_time = time.time()\n",
        "\n",
        "  print('Time taken for 1 epoch {} sec\\n'.format(time.time() - start))"
      ]
    },
    {
      "cell_type": "markdown",
      "metadata": {
        "id": "7IEQi5xcu6ex"
      },
      "source": [
        "# Evaluate"
      ]
    },
    {
      "cell_type": "code",
      "execution_count": null,
      "metadata": {
        "id": "HyH_DwOT-9lu"
      },
      "outputs": [],
      "source": [
        "checkpoint_dir = \"/content/gdrive/My Drive/Model_checkpoints/shakespeare_back//cp-{epoch:04d}.ckpt-12\""
      ]
    },
    {
      "cell_type": "code",
      "execution_count": null,
      "metadata": {
        "colab": {
          "base_uri": "https://localhost:8080/"
        },
        "id": "KLz8n6Btu3y4",
        "outputId": "161c74ad-e7fa-4a5a-9edd-8428a65b0d7a"
      },
      "outputs": [
        {
          "output_type": "execute_result",
          "data": {
            "text/plain": [
              "<tensorflow.python.checkpoint.checkpoint.CheckpointLoadStatus at 0x7de20553aa70>"
            ]
          },
          "metadata": {},
          "execution_count": 33
        }
      ],
      "source": [
        "checkpoint.restore(checkpoint_dir)\n",
        "#tf.train.latest_checkpoint(checkpoint_dir)"
      ]
    },
    {
      "cell_type": "code",
      "execution_count": null,
      "metadata": {
        "id": "ZmJplHKA8r04"
      },
      "outputs": [],
      "source": [
        "start_tokens = tf.fill([batch_size], vocab['<START>'])"
      ]
    },
    {
      "cell_type": "code",
      "execution_count": null,
      "metadata": {
        "id": "MX5WZjAO8YU-",
        "colab": {
          "base_uri": "https://localhost:8080/"
        },
        "outputId": "992eb1c9-63c1-4593-8532-792e4318d343"
      },
      "outputs": [
        {
          "output_type": "stream",
          "name": "stdout",
          "text": [
            "<PAD>\n"
          ]
        }
      ],
      "source": [
        "reverse_dict = {value: key for key, value in vocab.items()}\n",
        "print(reverse_dict.get(0, None))"
      ]
    },
    {
      "cell_type": "code",
      "execution_count": null,
      "metadata": {
        "id": "rpfcvOcMydXK"
      },
      "outputs": [],
      "source": [
        "def Evaluate(input, batch_size, max_len):\n",
        "  last = None\n",
        "  enc_initial = encoder.initialize_hidden_state()\n",
        "  enc_outputs, enc_h, enc_c = encoder(input, enc_initial)\n",
        "  # Initialize <start>s to begin\n",
        "  start_tokens = tf.fill([batch_size], vocab['<START>'])\n",
        "  out = np.zeros([batch_size, max_len])\n",
        "  prev_hidden, prev_cell = enc_h, enc_c\n",
        "\n",
        "  for t in range(1, max_len):\n",
        "    if t == 1:\n",
        "      output_probs, hidden, cell, attention_weights = decoder.call(\n",
        "                    start_tokens, prev_hidden, prev_cell, enc_outputs\n",
        "                )\n",
        "      max_value_index = tf.argmax(output_probs, axis=-1)\n",
        "      out[: , t-1] = max_value_index\n",
        "      prev_hidden, prev_cell = hidden, cell\n",
        "    else:\n",
        "      output_probs, hidden, cell, attention_weights = decoder.call(\n",
        "                     max_value_index, prev_hidden, prev_cell, enc_outputs\n",
        "                    )\n",
        "      max_value_index = tf.argmax(output_probs, axis=-1)\n",
        "      out[: , t-1] = max_value_index\n",
        "      prev_hidden, prev_cell = hidden, cell\n",
        "\n",
        "  return out"
      ]
    },
    {
      "cell_type": "code",
      "execution_count": null,
      "metadata": {
        "id": "RnRhC-l2-AB8"
      },
      "outputs": [],
      "source": [
        "a = Evaluate(example_input_batch, batch_size, max_len)"
      ]
    },
    {
      "cell_type": "code",
      "execution_count": null,
      "metadata": {
        "id": "JplRzv73_ZJf"
      },
      "outputs": [],
      "source": [
        "def create_sentence(x):\n",
        "  S = []\n",
        "  for sentence in x:\n",
        "    l = []\n",
        "    for word in sentence:\n",
        "      l.append(reverse_dict.get(int(word), None))\n",
        "    S.append(' '.join(l))\n",
        "  return S"
      ]
    },
    {
      "cell_type": "code",
      "source": [
        "for i in range(20):\n",
        "  print(i, create_sentence(tf.reshape(example_input_batch[i], (1, max_len))))"
      ],
      "metadata": {
        "colab": {
          "base_uri": "https://localhost:8080/"
        },
        "id": "CEKr6pF2BGBH",
        "outputId": "a63669c6-f7f1-4905-8575-9bc2bf1fb3d9"
      },
      "execution_count": null,
      "outputs": [
        {
          "output_type": "stream",
          "name": "stdout",
          "text": [
            "0 ['<START> think that thy babes were fairer than they were , <END> <PAD> <PAD> <PAD> <PAD> <PAD>']\n",
            "1 ['<START> let me be duke of clarence , george of gloucester <END> <PAD> <PAD> <PAD> <PAD> <PAD>']\n",
            "2 ['<START> the <UNK> , <UNK> <UNK> dead , <END> <PAD> <PAD> <PAD> <PAD> <PAD> <PAD> <PAD> <PAD>']\n",
            "3 ['<START> and bid his ears a little while be deaf , <END> <PAD> <PAD> <PAD> <PAD> <PAD>']\n",
            "4 ['<START> how now , my headstrong ! where have you been <UNK> ? <END> <PAD> <PAD> <PAD>']\n",
            "5 ['<START> i neither care for the world nor your general : for <END> <PAD> <PAD> <PAD> <PAD>']\n",
            "6 ['<START> why came i hither but to that intent ? <END> <PAD> <PAD> <PAD> <PAD> <PAD> <PAD>']\n",
            "7 ['<START> to pluck him headlong from the usurped throne . <END> <PAD> <PAD> <PAD> <PAD> <PAD> <PAD>']\n",
            "8 [\"<START> as thus , <UNK> , little ones , ' and then again , <END> <PAD> <PAD>\"]\n",
            "9 ['<START> graybeard , thy love doth freeze . <END> <PAD> <PAD> <PAD> <PAD> <PAD> <PAD> <PAD> <PAD>']\n",
            "10 ['<START> so her dead likeness , i do well believe , <END> <PAD> <PAD> <PAD> <PAD> <PAD>']\n",
            "11 ['<START> you will not own it . <END> <PAD> <PAD> <PAD> <PAD> <PAD> <PAD> <PAD> <PAD> <PAD>']\n",
            "12 ['<START> no , to white friars there attend my coining . <END> <PAD> <PAD> <PAD> <PAD> <PAD>']\n",
            "13 ['<START> traitor ! how now ! <END> <PAD> <PAD> <PAD> <PAD> <PAD> <PAD> <PAD> <PAD> <PAD> <PAD>']\n",
            "14 ['<START> had you first died , and he been thus trod down , <END> <PAD> <PAD> <PAD>']\n",
            "15 ['<START> knock me well , and knock me <UNK> ? and come you <END> <PAD> <PAD> <PAD>']\n",
            "16 ['<START> my inch of taper will be burnt and done , <END> <PAD> <PAD> <PAD> <PAD> <PAD>']\n",
            "17 ['<START> dry up your tears , and stick your rosemary <END> <PAD> <PAD> <PAD> <PAD> <PAD> <PAD>']\n",
            "18 ['<START> i have <UNK> on thousands , who have sped the better <END> <PAD> <PAD> <PAD> <PAD>']\n",
            "19 ['<START> shall bring emilia forth . <END> <PAD> <PAD> <PAD> <PAD> <PAD> <PAD> <PAD> <PAD> <PAD> <PAD>']\n"
          ]
        }
      ]
    },
    {
      "cell_type": "code",
      "source": [
        "for i in range(20):\n",
        "  print(i, create_sentence(tf.reshape(a[i], (1, max_len))))"
      ],
      "metadata": {
        "colab": {
          "base_uri": "https://localhost:8080/"
        },
        "id": "UzHEZmKnAkeF",
        "outputId": "0564c14d-9d9d-44a2-d604-b249bc380512"
      },
      "execution_count": null,
      "outputs": [
        {
          "output_type": "stream",
          "name": "stdout",
          "text": [
            "0 ['think that your children were more beautiful than them , <END> <PAD> <PAD> <PAD> <PAD> <PAD> <PAD>']\n",
            "1 ['let me be duke of clarence , george of gloucester <END> <PAD> <PAD> <PAD> <PAD> <PAD> <PAD>']\n",
            "2 ['the sweetest , dearest creature is dead , <END> <PAD> <PAD> <PAD> <PAD> <PAD> <PAD> <PAD> <PAD>']\n",
            "3 ['and his ears will be deaf for a while , <END> <PAD> <PAD> <PAD> <PAD> <PAD> <PAD>']\n",
            "4 ['as now , my wayward one ! where have you been walking around <END> <PAD> <PAD> <PAD>']\n",
            "5 ['i am not good for the world , nor in your general : for <END> <PAD> <PAD>']\n",
            "6 ['why did i come here , but for this purpose ? <END> <PAD> <PAD> <PAD> <PAD> <PAD>']\n",
            "7 ['to tear him headlong from the usurped throne . <END> <PAD> <PAD> <PAD> <PAD> <PAD> <PAD> <PAD>']\n",
            "8 ['like this : come , my little ones and then again : <END> <PAD> <PAD> <PAD> <PAD>']\n",
            "9 ['<UNK> , your love freezes . <END> <PAD> <PAD> <PAD> <PAD> <PAD> <PAD> <PAD> <PAD> <PAD> <PAD>']\n",
            "10 ['so her dead image , i definitely believe that <END> <PAD> <PAD> <PAD> <PAD> <PAD> <PAD> <PAD>']\n",
            "11 ['you will not own it . <END> <PAD> <PAD> <PAD> <PAD> <PAD> <PAD> <PAD> <PAD> <PAD> <PAD>']\n",
            "12 ['no , the white brothers partake in my coinage . <END> <PAD> <PAD> <PAD> <PAD> <PAD> <PAD>']\n",
            "13 ['traitor ! like right now ! <END> <PAD> <PAD> <PAD> <PAD> <PAD> <PAD> <PAD> <PAD> <PAD> <PAD>']\n",
            "14 ['would you have died first and he would have been trampled like that ? <END> <PAD> <PAD>']\n",
            "15 ['pat me good and pat me <UNK> ? and come you <END> <PAD> <PAD> <PAD> <PAD> <PAD>']\n",
            "16 ['my inch cone will be burned and finished <END> <PAD> <PAD> <PAD> <PAD> <PAD> <PAD> <PAD> <PAD>']\n",
            "17 ['dry your tears and put your rosemary in them <END> <PAD> <PAD> <PAD> <PAD> <PAD> <PAD> <PAD>']\n",
            "18 ['<UNK> seen thousands drive faster <END> <PAD> <PAD> <PAD> <PAD> <PAD> <PAD> <PAD> <PAD> <PAD> <PAD> <PAD>']\n",
            "19 ['shall produce emilia . <END> <PAD> <PAD> <PAD> <PAD> <PAD> <PAD> <PAD> <PAD> <PAD> <PAD> <PAD> <PAD>']\n"
          ]
        }
      ]
    },
    {
      "cell_type": "code",
      "source": [
        "predicts = []\n",
        "for i in range(batch_size):\n",
        "  s = create_sentence(tf.reshape(a[i], (1, max_len)))\n",
        "  predicts.append(s[0])"
      ],
      "metadata": {
        "id": "WJ-uzqDrAF7y"
      },
      "execution_count": null,
      "outputs": []
    },
    {
      "cell_type": "code",
      "source": [
        "predicts = [' '.join([i for i in str.split(a) if i!= '<END>' and i!= '<PAD>']) for a in predicts]"
      ],
      "metadata": {
        "id": "sD74qE_CBkJq"
      },
      "execution_count": null,
      "outputs": []
    },
    {
      "cell_type": "code",
      "source": [
        "print(predicts[:5])"
      ],
      "metadata": {
        "colab": {
          "base_uri": "https://localhost:8080/"
        },
        "id": "TOSL1BHmCF-q",
        "outputId": "14d75f69-bf03-4c01-956e-87c8e2f3500c"
      },
      "execution_count": null,
      "outputs": [
        {
          "output_type": "stream",
          "name": "stdout",
          "text": [
            "['think that your children were more beautiful than them ,', 'let me be duke of clarence , george of gloucester', 'the sweetest , dearest creature is dead ,', 'and his ears will be deaf for a while ,', 'as now , my wayward one ! where have you been walking around']\n"
          ]
        }
      ]
    },
    {
      "cell_type": "code",
      "source": [
        "targets = []\n",
        "for i in range(batch_size):\n",
        "  s = create_sentence(tf.reshape(example_target_batch[i], (1, max_len)))\n",
        "  targets.append(s[0])\n",
        "targets = [' '.join([i for i in str.split(a) if i!= '<START>' and i!= '<END>' and i!= '<PAD>']) for a in targets]"
      ],
      "metadata": {
        "id": "Z4zsTL32C1gQ"
      },
      "execution_count": null,
      "outputs": []
    },
    {
      "cell_type": "code",
      "source": [
        "print(targets[1])"
      ],
      "metadata": {
        "colab": {
          "base_uri": "https://localhost:8080/"
        },
        "id": "0_SRAGSmDfCi",
        "outputId": "0e9cbe5a-a47b-4694-ec7f-8a172229d619"
      },
      "execution_count": null,
      "outputs": [
        {
          "output_type": "stream",
          "name": "stdout",
          "text": [
            "let me be duke of clarence , george of gloucester\n"
          ]
        }
      ]
    },
    {
      "cell_type": "code",
      "source": [
        "print(predicts[1])"
      ],
      "metadata": {
        "colab": {
          "base_uri": "https://localhost:8080/"
        },
        "id": "c26DtV6CEFrd",
        "outputId": "0c755f6a-4536-463d-f620-ee63a1ad144f"
      },
      "execution_count": null,
      "outputs": [
        {
          "output_type": "stream",
          "name": "stdout",
          "text": [
            "let me be duke of clarence , george of gloucester\n"
          ]
        }
      ]
    },
    {
      "cell_type": "markdown",
      "source": [
        "# Bleu Score"
      ],
      "metadata": {
        "id": "aeGbFiED9qc-"
      }
    },
    {
      "cell_type": "code",
      "source": [
        "import nltk\n",
        "nltk.download('punkt')"
      ],
      "metadata": {
        "colab": {
          "base_uri": "https://localhost:8080/"
        },
        "id": "n0fVRbpi_bLX",
        "outputId": "e0783959-2fb5-42c0-c19e-b5ae687bec0e"
      },
      "execution_count": null,
      "outputs": [
        {
          "output_type": "stream",
          "name": "stderr",
          "text": [
            "[nltk_data] Downloading package punkt to /root/nltk_data...\n",
            "[nltk_data]   Package punkt is already up-to-date!\n"
          ]
        },
        {
          "output_type": "execute_result",
          "data": {
            "text/plain": [
              "True"
            ]
          },
          "metadata": {},
          "execution_count": 70
        }
      ]
    },
    {
      "cell_type": "code",
      "source": [
        "\n",
        "def Bleu_Score(targets, predicts):\n",
        "  min_bleu = 0.5\n",
        "  total_score = 0\n",
        "  size = len(targets)\n",
        "  for i in range(size):\n",
        "    # Reference and candidate sentences\n",
        "    original = create_sentence(tf.reshape(example_input_batch[i], (1, max_len)))\n",
        "    reference = [predicts[i]]\n",
        "    candidate = targets[i]\n",
        "    # Tokenize the sentences\n",
        "    reference_tokens = [nltk.word_tokenize(sentence) for sentence in reference]\n",
        "    candidate_tokens = nltk.word_tokenize(candidate)\n",
        "\n",
        "    # Calculate BLEU score\n",
        "    bleu_score = nltk.translate.bleu_score.sentence_bleu(reference_tokens, candidate_tokens)\n",
        "    total_score += bleu_score\n",
        "  return total_score/size"
      ],
      "metadata": {
        "id": "cLEEsavuDTqq"
      },
      "execution_count": null,
      "outputs": []
    },
    {
      "cell_type": "code",
      "source": [
        "print(Bleu_Score(targets, predicts))"
      ],
      "metadata": {
        "id": "YKFbzDDFE4iw"
      },
      "execution_count": null,
      "outputs": []
    },
    {
      "cell_type": "markdown",
      "source": [
        "# Heatmap"
      ],
      "metadata": {
        "id": "uE3_kmqA8g0r"
      }
    },
    {
      "cell_type": "code",
      "source": [
        "print(np.shape(attention_weights))"
      ],
      "metadata": {
        "colab": {
          "base_uri": "https://localhost:8080/"
        },
        "id": "l9QSHfRtc1rk",
        "outputId": "97d8452c-5dc1-4336-eb30-5664a0a1bfdb"
      },
      "execution_count": null,
      "outputs": [
        {
          "output_type": "stream",
          "name": "stdout",
          "text": [
            "(64, 17)\n"
          ]
        }
      ]
    },
    {
      "cell_type": "code",
      "source": [
        "def Evaluate_with_attention(input, batch_size, max_len):\n",
        "\n",
        "  enc_initial = encoder.initialize_hidden_state()\n",
        "  enc_outputs, enc_h, enc_c = encoder(input, enc_initial)\n",
        "  # Initialize <start>s to begin\n",
        "  start_tokens = tf.fill([batch_size], vocab['<START>'])\n",
        "\n",
        "  out = np.zeros([batch_size, max_len])\n",
        "  attention = np.zeros([max_len-1, batch_size, max_len])\n",
        "\n",
        "  prev_hidden, prev_cell = enc_h, enc_c\n",
        "\n",
        "  for t in range(1, max_len):\n",
        "    if t == 1:\n",
        "      output_probs, hidden, cell, attention_weights = decoder.call(\n",
        "                    start_tokens, prev_hidden, prev_cell, enc_outputs\n",
        "                )\n",
        "      max_value_index = tf.argmax(output_probs, axis=-1)\n",
        "      out[: , t-1] = max_value_index\n",
        "      attention[t-1] = attention_weights\n",
        "      prev_hidden, prev_cell = hidden, cell\n",
        "    else:\n",
        "      output_probs, hidden, cell, attention_weights = decoder.call(\n",
        "                     max_value_index, prev_hidden, prev_cell, enc_outputs\n",
        "                    )\n",
        "      max_value_index = tf.argmax(output_probs, axis=-1)\n",
        "      out[: , t-1] = max_value_index\n",
        "      attention[t-1] = attention_weights\n",
        "      prev_hidden, prev_cell = hidden, cell\n",
        "\n",
        "  return out,attention"
      ],
      "metadata": {
        "id": "yL9n_kViOkzJ"
      },
      "execution_count": null,
      "outputs": []
    },
    {
      "cell_type": "code",
      "source": [
        "b, attention_weights = Evaluate_with_attention(example_input_batch, batch_size, max_len)"
      ],
      "metadata": {
        "id": "WR-pF7_PdYzq"
      },
      "execution_count": null,
      "outputs": []
    },
    {
      "cell_type": "code",
      "source": [
        "import matplotlib.pyplot as plt\n",
        "import numpy as np\n",
        "\n",
        "def visualize_attention(attention_weights, index, input_sequence, output_sequence):\n",
        "    \"\"\"\n",
        "    Visualize attention weights as a heatmap.\n",
        "\n",
        "    Parameters:\n",
        "        attention_weights (numpy.ndarray): A 3D array of attention weights with shape (output_size, batch_size, input_size).\n",
        "        input_sequence (list): A list of tokens or words in the input sequence.\n",
        "        output_sequence (list): A list of tokens or words in the output sequence.\n",
        "\n",
        "    Returns:\n",
        "        None\n",
        "    \"\"\"\n",
        "    # Transpose attention_weights for visualization (batch_size, output_size, input_size)\n",
        "    attention_weights = attention_weights.transpose(1, 0, 2)\n",
        "\n",
        "    # Set up the plot\n",
        "    fig, ax = plt.subplots(figsize=(4, 4))\n",
        "    cax = ax.matshow(matrixx, cmap='viridis')  # Assuming batch_size is 1\n",
        "\n",
        "    # Set axis labels\n",
        "    ax.set_xticks(np.arange(len(input_sequence)))\n",
        "    ax.set_yticks(np.arange(len(output_sequence)))\n",
        "    ax.set_xticklabels(input_sequence, rotation=90)\n",
        "    ax.set_yticklabels(output_sequence)\n",
        "\n",
        "    # Show colorbar\n",
        "    fig.colorbar(cax)\n",
        "\n",
        "    # Set plot title and labels\n",
        "    plt.xlabel('Input Sequence')\n",
        "    plt.ylabel('Output Sequence')\n",
        "    plt.title('Attention Heatmap')\n",
        "\n",
        "    # Show the plot\n",
        "    plt.show()\n",
        "\n"
      ],
      "metadata": {
        "id": "88_mTPAhckxc"
      },
      "execution_count": null,
      "outputs": []
    },
    {
      "cell_type": "code",
      "source": [
        "# test attention plot\n",
        "output_sequence = str.split(create_sentence(tf.reshape(a[13], (1, max_len)))[0])\n",
        "input_sequence = str.split(create_sentence(tf.reshape(example_input_batch[13], (1, max_len)))[0])\n",
        "visualize_attention(attention_weights, 0, input_sequence, output_sequence)"
      ],
      "metadata": {
        "colab": {
          "base_uri": "https://localhost:8080/",
          "height": 417
        },
        "id": "z_iQy5NnfGjV",
        "outputId": "5f3f45fd-81a2-4a5a-a3d9-5ca20a55effa"
      },
      "execution_count": null,
      "outputs": [
        {
          "output_type": "display_data",
          "data": {
            "text/plain": [
              "<Figure size 400x400 with 2 Axes>"
            ],
            "image/png": "[encoded data removed]"
          },
          "metadata": {}
        }
      ]
    },
    {
      "cell_type": "markdown",
      "source": [
        "# Writer with similar style"
      ],
      "metadata": {
        "id": "zZnRmuKhsWdI"
      }
    },
    {
      "cell_type": "code",
      "source": [
        "t_name = \"Christopher Marlowe.txt\"\n",
        "t_path= F\"/content/gdrive/My Drive/Database/{t_name}\""
      ],
      "metadata": {
        "id": "enkpJWeqs1mb"
      },
      "execution_count": null,
      "outputs": []
    },
    {
      "cell_type": "code",
      "source": [
        "text_data = []\n",
        "with open(t_path, 'r') as file:\n",
        "  for line in file:\n",
        "    text_data.append(line.strip())"
      ],
      "metadata": {
        "id": "dLZdTPpjtP4W"
      },
      "execution_count": null,
      "outputs": []
    },
    {
      "cell_type": "code",
      "source": [
        "# pre-process\n",
        "import re\n",
        "\n",
        "def preprocess_sentence(w):\n",
        "        w = w.lower().strip()\n",
        "\n",
        "        # creating a space between a word and the punctuation following it\n",
        "        # eg: \"he is a boy.\" => \"he is a boy .\"\n",
        "        # Reference:- https://stackoverflow.com/questions/3645931/python-padding-punctuation-with-white-spaces-keeping-punctuation\n",
        "        w = re.sub(r\"([?.!,¿:])\", r\" \\1 \", w)\n",
        "        w = re.sub(r'[\" \"]+', \" \", w)\n",
        "\n",
        "        # replacing everything with space except (a-z, A-Z, \".\", \"?\", \"!\", \",\")\n",
        "        w = re.sub(r\"[^a-zA-Z?.!,¿:']+\", \" \", w)\n",
        "\n",
        "        w = w.strip()\n",
        "\n",
        "        # adding a start and an end token to the sentence\n",
        "        # so that the model know when to start and stop predicting.\n",
        "\n",
        "        return w"
      ],
      "metadata": {
        "id": "0TmhlE9htrlm"
      },
      "execution_count": null,
      "outputs": []
    },
    {
      "cell_type": "code",
      "source": [
        "text = [preprocess_sentence(i) for i in text_data]"
      ],
      "metadata": {
        "id": "f8v4sG3ewlbS"
      },
      "execution_count": null,
      "outputs": []
    },
    {
      "cell_type": "code",
      "source": [
        "# google-translate\n",
        "!pip install googletrans==3.1.0a0"
      ],
      "metadata": {
        "id": "Q-L6kjtgwvLH"
      },
      "execution_count": null,
      "outputs": []
    },
    {
      "cell_type": "code",
      "source": [
        "# import libraries\n",
        "import googletrans\n",
        "from googletrans import Translator\n",
        "import pandas as pd\n",
        "\n",
        "translator = Translator()\n",
        "\n",
        "def back_tranlate(w):\n",
        "  translated_ita = translator.translate(w, src= 'en', dest= 'de')\n",
        "  back= translator.translate(translated_ita.text, src= 'de', dest='en')\n",
        "  return back.text"
      ],
      "metadata": {
        "id": "NnL-SKevw5qQ"
      },
      "execution_count": null,
      "outputs": []
    }
  ],
  "metadata": {
    "colab": {
      "collapsed_sections": [
        "SzT82KlHmxZv",
        "y2wkz1H4nlvd",
        "hZDHVV9fxIT7",
        "QqfSVMSoBATj",
        "vqeghSPChyPQ",
        "uE3_kmqA8g0r"
      ],
      "provenance": []
    },
    "kernelspec": {
      "display_name": "Python 3",
      "name": "python3"
    },
    "language_info": {
      "name": "python"
    }
  },
  "nbformat": 4,
  "nbformat_minor": 0
}